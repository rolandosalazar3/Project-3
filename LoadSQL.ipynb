{
 "cells": [
  {
   "cell_type": "code",
   "execution_count": null,
   "id": "6de0c6b0-ce96-4236-82d4-fbf76e827d2d",
   "metadata": {},
   "outputs": [],
   "source": [
    "#Dependencies\n",
    "#!pip install psycopg2-binary\n",
    "import pandas as pd\n",
    "import sqlalchemy\n",
    "from sqlalchemy.ext.automap import automap_base\n",
    "from sqlalchemy.orm import Session\n",
    "from sqlalchemy import create_engine, func\n",
    "from flask import Flask, jsonify\n",
    "from flask import Flask, render_template"
   ]
  },
  {
   "cell_type": "code",
   "execution_count": null,
   "id": "28c8e5de-46ab-4bd4-b1fd-a8c00e054ac4",
   "metadata": {},
   "outputs": [],
   "source": [
    "#Store csv into database\n",
    "csv_file = \"university_data.csv\"\n",
    "university_df = pd.read_csv(csv_file)"
   ]
  },
  {
   "cell_type": "code",
   "execution_count": null,
   "id": "817a1467-0327-4c2e-a5c0-f284f9caa7ff",
   "metadata": {},
   "outputs": [],
   "source": [
    "#Connect to local database\n",
    "protocol = 'postgresql'\n",
    "username = 'postgres'\n",
    "password = 5432\n",
    "host = 'localhost'\n",
    "port = 5432\n",
    "database_name = 'universities'\n",
    "rds_connection_string = f'{protocol}://{username}:{password}@{host}:{port}/{database_name}'\n",
    "engine = create_engine(rds_connection_string)"
   ]
  },
  {
   "cell_type": "code",
   "execution_count": null,
   "id": "572ceff1-0080-422e-a525-da18ad075617",
   "metadata": {},
   "outputs": [],
   "source": [
    "#Use pandas to load csv converted DataFrame into database\n",
    "university_df.to_sql(name='universities', con=engine, if_exists='append', index=False)"
   ]
  },
  {
   "cell_type": "code",
   "execution_count": null,
   "id": "a6b6732a-2a1d-4a43-8a19-6bf085167983",
   "metadata": {},
   "outputs": [],
   "source": [
    "#Confirm data has been added by querying the customer_name table\n",
    "pd.read_sql_query('select * from universities', con=engine).head()"
   ]
  }
 ],
 "metadata": {
  "kernelspec": {
   "display_name": "Python 3 (ipykernel)",
   "language": "python",
   "name": "python3"
  },
  "language_info": {
   "codemirror_mode": {
    "name": "ipython",
    "version": 3
   },
   "file_extension": ".py",
   "mimetype": "text/x-python",
   "name": "python",
   "nbconvert_exporter": "python",
   "pygments_lexer": "ipython3",
   "version": "3.9.12"
  }
 },
 "nbformat": 4,
 "nbformat_minor": 5
}
